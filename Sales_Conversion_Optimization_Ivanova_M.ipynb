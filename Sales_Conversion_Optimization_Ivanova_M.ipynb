{
  "nbformat": 4,
  "nbformat_minor": 0,
  "metadata": {
    "colab": {
      "provenance": []
    },
    "kernelspec": {
      "name": "python3",
      "display_name": "Python 3"
    },
    "language_info": {
      "name": "python"
    }
  },
  "cells": [
    {
      "cell_type": "markdown",
      "source": [
        "Аннотация к датасету."
      ],
      "metadata": {
        "id": "8DmpZuMp7Xbg"
      }
    },
    {
      "cell_type": "markdown",
      "source": [
        "# **Оптимизация конверсии продаж**\n",
        "\n",
        "**Данные, используемые в этом проекте, взяты из рекламной кампании анонимной организации в социальных сетях.**\n",
        "\n",
        "1) ad_id: уникальный идентификатор для каждого объявления.\n",
        "\n",
        "2) xyzcampaignid: идентификатор, связанный с каждой рекламной кампанией компании XYZ.\n",
        "\n",
        "3) fbcampaignid: идентификатор, связанный с тем, как Facebook отслеживает каждую кампанию.\n",
        "\n",
        "4) age: возраст человека, которому показывается реклама.\n",
        "\n",
        "5) gender: пол человека, которому показано объявление\n",
        "\n",
        "6) interest: код, указывающий категорию, к которой относится интерес человека (интересы указаны в общедоступном профиле человека на Facebook).\n",
        "\n",
        "7) Impressions: сколько раз было показано объявление.\n",
        "\n",
        "8) Clicks: количество кликов по этому объявлению.\n",
        "\n",
        "9) Spent: сумма, уплаченная компанией xyz Facebook за показ этой рекламы.\n",
        "\n",
        "10) Total_Conversion: общее количество людей, которые интересовались продуктом после просмотра рекламы.\n",
        "\n",
        "11) Approved_Conversion: общее количество людей, купивших продукт после просмотра рекламы."
      ],
      "metadata": {
        "id": "RSHMO7JM7ahQ"
      }
    },
    {
      "cell_type": "markdown",
      "source": [
        "Импортируем необходимые библиотеки"
      ],
      "metadata": {
        "id": "aWkYNqbt4eKI"
      }
    },
    {
      "cell_type": "code",
      "execution_count": null,
      "metadata": {
        "id": "3WPWTTf30vFU"
      },
      "outputs": [],
      "source": [
        "import numpy as np\n",
        "import pandas as pd\n",
        "import seaborn as sns\n",
        "from scipy import stats\n",
        "from scipy.stats import norm\n",
        "from scipy.stats import multivariate_normal as mn\n",
        "\n",
        "\n",
        "from sklearn.preprocessing import MinMaxScaler\n",
        "from sklearn.linear_model import LinearRegression\n",
        "from sklearn.metrics import r2_score\n",
        "from sklearn.metrics import mean_squared_error"
      ]
    },
    {
      "cell_type": "markdown",
      "source": [
        "Считываем набор данных с помощью pandas (функция read_csv)"
      ],
      "metadata": {
        "id": "Bt9ohIM74hTC"
      }
    },
    {
      "cell_type": "code",
      "source": [
        "df = pd.read_csv('KAG_conversion_data.csv')"
      ],
      "metadata": {
        "id": "fJgavGU112Ym"
      },
      "execution_count": null,
      "outputs": []
    },
    {
      "cell_type": "markdown",
      "source": [
        "Смотрим на содержимое набора данных (датафрейм как таблица данных с признаками)"
      ],
      "metadata": {
        "id": "n_GU6hDX4l02"
      }
    },
    {
      "cell_type": "code",
      "source": [
        "df"
      ],
      "metadata": {
        "colab": {
          "base_uri": "https://localhost:8080/",
          "height": 424
        },
        "id": "i2OzGIPE192W",
        "outputId": "038f6620-1403-48a1-c841-eff19eec32ba"
      },
      "execution_count": null,
      "outputs": [
        {
          "output_type": "execute_result",
          "data": {
            "text/plain": [
              "        ad_id  xyz_campaign_id  fb_campaign_id    age gender  interest  \\\n",
              "0      708746              916          103916  30-34      M        15   \n",
              "1      708749              916          103917  30-34      M        16   \n",
              "2      708771              916          103920  30-34      M        20   \n",
              "3      708815              916          103928  30-34      M        28   \n",
              "4      708818              916          103928  30-34      M        28   \n",
              "...       ...              ...             ...    ...    ...       ...   \n",
              "1138  1314410             1178          179977  45-49      F       109   \n",
              "1139  1314411             1178          179978  45-49      F       110   \n",
              "1140  1314412             1178          179979  45-49      F       111   \n",
              "1141  1314414             1178          179981  45-49      F       113   \n",
              "1142  1314415             1178          179982  45-49      F       114   \n",
              "\n",
              "      Impressions  Clicks       Spent  Total_Conversion  Approved_Conversion  \n",
              "0            7350       1    1.430000                 2                    1  \n",
              "1           17861       2    1.820000                 2                    0  \n",
              "2             693       0    0.000000                 1                    0  \n",
              "3            4259       1    1.250000                 1                    0  \n",
              "4            4133       1    1.290000                 1                    1  \n",
              "...           ...     ...         ...               ...                  ...  \n",
              "1138      1129773     252  358.189997                13                    2  \n",
              "1139       637549     120  173.880003                 3                    0  \n",
              "1140       151531      28   40.289999                 2                    0  \n",
              "1141       790253     135  198.710001                 8                    2  \n",
              "1142       513161     114  165.609999                 5                    2  \n",
              "\n",
              "[1143 rows x 11 columns]"
            ],
            "text/html": [
              "\n",
              "  <div id=\"df-456ef983-1667-4155-b39a-2b627e92dc25\">\n",
              "    <div class=\"colab-df-container\">\n",
              "      <div>\n",
              "<style scoped>\n",
              "    .dataframe tbody tr th:only-of-type {\n",
              "        vertical-align: middle;\n",
              "    }\n",
              "\n",
              "    .dataframe tbody tr th {\n",
              "        vertical-align: top;\n",
              "    }\n",
              "\n",
              "    .dataframe thead th {\n",
              "        text-align: right;\n",
              "    }\n",
              "</style>\n",
              "<table border=\"1\" class=\"dataframe\">\n",
              "  <thead>\n",
              "    <tr style=\"text-align: right;\">\n",
              "      <th></th>\n",
              "      <th>ad_id</th>\n",
              "      <th>xyz_campaign_id</th>\n",
              "      <th>fb_campaign_id</th>\n",
              "      <th>age</th>\n",
              "      <th>gender</th>\n",
              "      <th>interest</th>\n",
              "      <th>Impressions</th>\n",
              "      <th>Clicks</th>\n",
              "      <th>Spent</th>\n",
              "      <th>Total_Conversion</th>\n",
              "      <th>Approved_Conversion</th>\n",
              "    </tr>\n",
              "  </thead>\n",
              "  <tbody>\n",
              "    <tr>\n",
              "      <th>0</th>\n",
              "      <td>708746</td>\n",
              "      <td>916</td>\n",
              "      <td>103916</td>\n",
              "      <td>30-34</td>\n",
              "      <td>M</td>\n",
              "      <td>15</td>\n",
              "      <td>7350</td>\n",
              "      <td>1</td>\n",
              "      <td>1.430000</td>\n",
              "      <td>2</td>\n",
              "      <td>1</td>\n",
              "    </tr>\n",
              "    <tr>\n",
              "      <th>1</th>\n",
              "      <td>708749</td>\n",
              "      <td>916</td>\n",
              "      <td>103917</td>\n",
              "      <td>30-34</td>\n",
              "      <td>M</td>\n",
              "      <td>16</td>\n",
              "      <td>17861</td>\n",
              "      <td>2</td>\n",
              "      <td>1.820000</td>\n",
              "      <td>2</td>\n",
              "      <td>0</td>\n",
              "    </tr>\n",
              "    <tr>\n",
              "      <th>2</th>\n",
              "      <td>708771</td>\n",
              "      <td>916</td>\n",
              "      <td>103920</td>\n",
              "      <td>30-34</td>\n",
              "      <td>M</td>\n",
              "      <td>20</td>\n",
              "      <td>693</td>\n",
              "      <td>0</td>\n",
              "      <td>0.000000</td>\n",
              "      <td>1</td>\n",
              "      <td>0</td>\n",
              "    </tr>\n",
              "    <tr>\n",
              "      <th>3</th>\n",
              "      <td>708815</td>\n",
              "      <td>916</td>\n",
              "      <td>103928</td>\n",
              "      <td>30-34</td>\n",
              "      <td>M</td>\n",
              "      <td>28</td>\n",
              "      <td>4259</td>\n",
              "      <td>1</td>\n",
              "      <td>1.250000</td>\n",
              "      <td>1</td>\n",
              "      <td>0</td>\n",
              "    </tr>\n",
              "    <tr>\n",
              "      <th>4</th>\n",
              "      <td>708818</td>\n",
              "      <td>916</td>\n",
              "      <td>103928</td>\n",
              "      <td>30-34</td>\n",
              "      <td>M</td>\n",
              "      <td>28</td>\n",
              "      <td>4133</td>\n",
              "      <td>1</td>\n",
              "      <td>1.290000</td>\n",
              "      <td>1</td>\n",
              "      <td>1</td>\n",
              "    </tr>\n",
              "    <tr>\n",
              "      <th>...</th>\n",
              "      <td>...</td>\n",
              "      <td>...</td>\n",
              "      <td>...</td>\n",
              "      <td>...</td>\n",
              "      <td>...</td>\n",
              "      <td>...</td>\n",
              "      <td>...</td>\n",
              "      <td>...</td>\n",
              "      <td>...</td>\n",
              "      <td>...</td>\n",
              "      <td>...</td>\n",
              "    </tr>\n",
              "    <tr>\n",
              "      <th>1138</th>\n",
              "      <td>1314410</td>\n",
              "      <td>1178</td>\n",
              "      <td>179977</td>\n",
              "      <td>45-49</td>\n",
              "      <td>F</td>\n",
              "      <td>109</td>\n",
              "      <td>1129773</td>\n",
              "      <td>252</td>\n",
              "      <td>358.189997</td>\n",
              "      <td>13</td>\n",
              "      <td>2</td>\n",
              "    </tr>\n",
              "    <tr>\n",
              "      <th>1139</th>\n",
              "      <td>1314411</td>\n",
              "      <td>1178</td>\n",
              "      <td>179978</td>\n",
              "      <td>45-49</td>\n",
              "      <td>F</td>\n",
              "      <td>110</td>\n",
              "      <td>637549</td>\n",
              "      <td>120</td>\n",
              "      <td>173.880003</td>\n",
              "      <td>3</td>\n",
              "      <td>0</td>\n",
              "    </tr>\n",
              "    <tr>\n",
              "      <th>1140</th>\n",
              "      <td>1314412</td>\n",
              "      <td>1178</td>\n",
              "      <td>179979</td>\n",
              "      <td>45-49</td>\n",
              "      <td>F</td>\n",
              "      <td>111</td>\n",
              "      <td>151531</td>\n",
              "      <td>28</td>\n",
              "      <td>40.289999</td>\n",
              "      <td>2</td>\n",
              "      <td>0</td>\n",
              "    </tr>\n",
              "    <tr>\n",
              "      <th>1141</th>\n",
              "      <td>1314414</td>\n",
              "      <td>1178</td>\n",
              "      <td>179981</td>\n",
              "      <td>45-49</td>\n",
              "      <td>F</td>\n",
              "      <td>113</td>\n",
              "      <td>790253</td>\n",
              "      <td>135</td>\n",
              "      <td>198.710001</td>\n",
              "      <td>8</td>\n",
              "      <td>2</td>\n",
              "    </tr>\n",
              "    <tr>\n",
              "      <th>1142</th>\n",
              "      <td>1314415</td>\n",
              "      <td>1178</td>\n",
              "      <td>179982</td>\n",
              "      <td>45-49</td>\n",
              "      <td>F</td>\n",
              "      <td>114</td>\n",
              "      <td>513161</td>\n",
              "      <td>114</td>\n",
              "      <td>165.609999</td>\n",
              "      <td>5</td>\n",
              "      <td>2</td>\n",
              "    </tr>\n",
              "  </tbody>\n",
              "</table>\n",
              "<p>1143 rows × 11 columns</p>\n",
              "</div>\n",
              "      <button class=\"colab-df-convert\" onclick=\"convertToInteractive('df-456ef983-1667-4155-b39a-2b627e92dc25')\"\n",
              "              title=\"Convert this dataframe to an interactive table.\"\n",
              "              style=\"display:none;\">\n",
              "        \n",
              "  <svg xmlns=\"http://www.w3.org/2000/svg\" height=\"24px\"viewBox=\"0 0 24 24\"\n",
              "       width=\"24px\">\n",
              "    <path d=\"M0 0h24v24H0V0z\" fill=\"none\"/>\n",
              "    <path d=\"M18.56 5.44l.94 2.06.94-2.06 2.06-.94-2.06-.94-.94-2.06-.94 2.06-2.06.94zm-11 1L8.5 8.5l.94-2.06 2.06-.94-2.06-.94L8.5 2.5l-.94 2.06-2.06.94zm10 10l.94 2.06.94-2.06 2.06-.94-2.06-.94-.94-2.06-.94 2.06-2.06.94z\"/><path d=\"M17.41 7.96l-1.37-1.37c-.4-.4-.92-.59-1.43-.59-.52 0-1.04.2-1.43.59L10.3 9.45l-7.72 7.72c-.78.78-.78 2.05 0 2.83L4 21.41c.39.39.9.59 1.41.59.51 0 1.02-.2 1.41-.59l7.78-7.78 2.81-2.81c.8-.78.8-2.07 0-2.86zM5.41 20L4 18.59l7.72-7.72 1.47 1.35L5.41 20z\"/>\n",
              "  </svg>\n",
              "      </button>\n",
              "      \n",
              "  <style>\n",
              "    .colab-df-container {\n",
              "      display:flex;\n",
              "      flex-wrap:wrap;\n",
              "      gap: 12px;\n",
              "    }\n",
              "\n",
              "    .colab-df-convert {\n",
              "      background-color: #E8F0FE;\n",
              "      border: none;\n",
              "      border-radius: 50%;\n",
              "      cursor: pointer;\n",
              "      display: none;\n",
              "      fill: #1967D2;\n",
              "      height: 32px;\n",
              "      padding: 0 0 0 0;\n",
              "      width: 32px;\n",
              "    }\n",
              "\n",
              "    .colab-df-convert:hover {\n",
              "      background-color: #E2EBFA;\n",
              "      box-shadow: 0px 1px 2px rgba(60, 64, 67, 0.3), 0px 1px 3px 1px rgba(60, 64, 67, 0.15);\n",
              "      fill: #174EA6;\n",
              "    }\n",
              "\n",
              "    [theme=dark] .colab-df-convert {\n",
              "      background-color: #3B4455;\n",
              "      fill: #D2E3FC;\n",
              "    }\n",
              "\n",
              "    [theme=dark] .colab-df-convert:hover {\n",
              "      background-color: #434B5C;\n",
              "      box-shadow: 0px 1px 3px 1px rgba(0, 0, 0, 0.15);\n",
              "      filter: drop-shadow(0px 1px 2px rgba(0, 0, 0, 0.3));\n",
              "      fill: #FFFFFF;\n",
              "    }\n",
              "  </style>\n",
              "\n",
              "      <script>\n",
              "        const buttonEl =\n",
              "          document.querySelector('#df-456ef983-1667-4155-b39a-2b627e92dc25 button.colab-df-convert');\n",
              "        buttonEl.style.display =\n",
              "          google.colab.kernel.accessAllowed ? 'block' : 'none';\n",
              "\n",
              "        async function convertToInteractive(key) {\n",
              "          const element = document.querySelector('#df-456ef983-1667-4155-b39a-2b627e92dc25');\n",
              "          const dataTable =\n",
              "            await google.colab.kernel.invokeFunction('convertToInteractive',\n",
              "                                                     [key], {});\n",
              "          if (!dataTable) return;\n",
              "\n",
              "          const docLinkHtml = 'Like what you see? Visit the ' +\n",
              "            '<a target=\"_blank\" href=https://colab.research.google.com/notebooks/data_table.ipynb>data table notebook</a>'\n",
              "            + ' to learn more about interactive tables.';\n",
              "          element.innerHTML = '';\n",
              "          dataTable['output_type'] = 'display_data';\n",
              "          await google.colab.output.renderOutput(dataTable, element);\n",
              "          const docLink = document.createElement('div');\n",
              "          docLink.innerHTML = docLinkHtml;\n",
              "          element.appendChild(docLink);\n",
              "        }\n",
              "      </script>\n",
              "    </div>\n",
              "  </div>\n",
              "  "
            ]
          },
          "metadata": {},
          "execution_count": 3
        }
      ]
    },
    {
      "cell_type": "markdown",
      "source": [
        "Выводим общую информацию о признаках в датасете"
      ],
      "metadata": {
        "id": "myv-uOWH4sG5"
      }
    },
    {
      "cell_type": "code",
      "source": [
        "df.info()"
      ],
      "metadata": {
        "colab": {
          "base_uri": "https://localhost:8080/"
        },
        "id": "KAGVdZSX1_rf",
        "outputId": "7435b8fc-fa72-4e78-8df3-c62fb5aecd30"
      },
      "execution_count": null,
      "outputs": [
        {
          "output_type": "stream",
          "name": "stdout",
          "text": [
            "<class 'pandas.core.frame.DataFrame'>\n",
            "RangeIndex: 1143 entries, 0 to 1142\n",
            "Data columns (total 11 columns):\n",
            " #   Column               Non-Null Count  Dtype  \n",
            "---  ------               --------------  -----  \n",
            " 0   ad_id                1143 non-null   int64  \n",
            " 1   xyz_campaign_id      1143 non-null   int64  \n",
            " 2   fb_campaign_id       1143 non-null   int64  \n",
            " 3   age                  1143 non-null   object \n",
            " 4   gender               1143 non-null   object \n",
            " 5   interest             1143 non-null   int64  \n",
            " 6   Impressions          1143 non-null   int64  \n",
            " 7   Clicks               1143 non-null   int64  \n",
            " 8   Spent                1143 non-null   float64\n",
            " 9   Total_Conversion     1143 non-null   int64  \n",
            " 10  Approved_Conversion  1143 non-null   int64  \n",
            "dtypes: float64(1), int64(8), object(2)\n",
            "memory usage: 98.4+ KB\n"
          ]
        }
      ]
    },
    {
      "cell_type": "markdown",
      "source": [
        "Из результата выше видно, что имеются две категориальные и 9 числовых переменных, пропусков значений (таких как None или NaN) не имеется\n",
        "\n",
        "Однако, следует отметить, что такие столбцы как xyz_campaign_id и fb_campaign_id тоже являются категориальными признаками, так как содержат повторения"
      ],
      "metadata": {
        "id": "Qu8Jtb275YMJ"
      }
    },
    {
      "cell_type": "markdown",
      "source": [
        "С помощью функции describe() выводим некоторые статистические данные, такие как процентиль, среднее значение и стандартное отклонение различных числовых признаков"
      ],
      "metadata": {
        "id": "Z4AKWX1Z5Km4"
      }
    },
    {
      "cell_type": "code",
      "source": [
        "df.describe()"
      ],
      "metadata": {
        "colab": {
          "base_uri": "https://localhost:8080/",
          "height": 300
        },
        "id": "eQ9BIUCN2Co-",
        "outputId": "a8e2f08c-a4ef-46d8-9f47-8ddb906cd16e"
      },
      "execution_count": null,
      "outputs": [
        {
          "output_type": "execute_result",
          "data": {
            "text/plain": [
              "              ad_id  xyz_campaign_id  fb_campaign_id     interest  \\\n",
              "count  1.143000e+03      1143.000000     1143.000000  1143.000000   \n",
              "mean   9.872611e+05      1067.382327   133783.989501    32.766404   \n",
              "std    1.939928e+05       121.629393    20500.308622    26.952131   \n",
              "min    7.087460e+05       916.000000   103916.000000     2.000000   \n",
              "25%    7.776325e+05       936.000000   115716.000000    16.000000   \n",
              "50%    1.121185e+06      1178.000000   144549.000000    25.000000   \n",
              "75%    1.121804e+06      1178.000000   144657.500000    31.000000   \n",
              "max    1.314415e+06      1178.000000   179982.000000   114.000000   \n",
              "\n",
              "        Impressions       Clicks        Spent  Total_Conversion  \\\n",
              "count  1.143000e+03  1143.000000  1143.000000       1143.000000   \n",
              "mean   1.867321e+05    33.390201    51.360656          2.855643   \n",
              "std    3.127622e+05    56.892438    86.908418          4.483593   \n",
              "min    8.700000e+01     0.000000     0.000000          0.000000   \n",
              "25%    6.503500e+03     1.000000     1.480000          1.000000   \n",
              "50%    5.150900e+04     8.000000    12.370000          1.000000   \n",
              "75%    2.217690e+05    37.500000    60.025000          3.000000   \n",
              "max    3.052003e+06   421.000000   639.949998         60.000000   \n",
              "\n",
              "       Approved_Conversion  \n",
              "count          1143.000000  \n",
              "mean              0.944007  \n",
              "std               1.737708  \n",
              "min               0.000000  \n",
              "25%               0.000000  \n",
              "50%               1.000000  \n",
              "75%               1.000000  \n",
              "max              21.000000  "
            ],
            "text/html": [
              "\n",
              "  <div id=\"df-164b4ba6-9cd6-4d83-8a6c-3bee57ba6170\">\n",
              "    <div class=\"colab-df-container\">\n",
              "      <div>\n",
              "<style scoped>\n",
              "    .dataframe tbody tr th:only-of-type {\n",
              "        vertical-align: middle;\n",
              "    }\n",
              "\n",
              "    .dataframe tbody tr th {\n",
              "        vertical-align: top;\n",
              "    }\n",
              "\n",
              "    .dataframe thead th {\n",
              "        text-align: right;\n",
              "    }\n",
              "</style>\n",
              "<table border=\"1\" class=\"dataframe\">\n",
              "  <thead>\n",
              "    <tr style=\"text-align: right;\">\n",
              "      <th></th>\n",
              "      <th>ad_id</th>\n",
              "      <th>xyz_campaign_id</th>\n",
              "      <th>fb_campaign_id</th>\n",
              "      <th>interest</th>\n",
              "      <th>Impressions</th>\n",
              "      <th>Clicks</th>\n",
              "      <th>Spent</th>\n",
              "      <th>Total_Conversion</th>\n",
              "      <th>Approved_Conversion</th>\n",
              "    </tr>\n",
              "  </thead>\n",
              "  <tbody>\n",
              "    <tr>\n",
              "      <th>count</th>\n",
              "      <td>1.143000e+03</td>\n",
              "      <td>1143.000000</td>\n",
              "      <td>1143.000000</td>\n",
              "      <td>1143.000000</td>\n",
              "      <td>1.143000e+03</td>\n",
              "      <td>1143.000000</td>\n",
              "      <td>1143.000000</td>\n",
              "      <td>1143.000000</td>\n",
              "      <td>1143.000000</td>\n",
              "    </tr>\n",
              "    <tr>\n",
              "      <th>mean</th>\n",
              "      <td>9.872611e+05</td>\n",
              "      <td>1067.382327</td>\n",
              "      <td>133783.989501</td>\n",
              "      <td>32.766404</td>\n",
              "      <td>1.867321e+05</td>\n",
              "      <td>33.390201</td>\n",
              "      <td>51.360656</td>\n",
              "      <td>2.855643</td>\n",
              "      <td>0.944007</td>\n",
              "    </tr>\n",
              "    <tr>\n",
              "      <th>std</th>\n",
              "      <td>1.939928e+05</td>\n",
              "      <td>121.629393</td>\n",
              "      <td>20500.308622</td>\n",
              "      <td>26.952131</td>\n",
              "      <td>3.127622e+05</td>\n",
              "      <td>56.892438</td>\n",
              "      <td>86.908418</td>\n",
              "      <td>4.483593</td>\n",
              "      <td>1.737708</td>\n",
              "    </tr>\n",
              "    <tr>\n",
              "      <th>min</th>\n",
              "      <td>7.087460e+05</td>\n",
              "      <td>916.000000</td>\n",
              "      <td>103916.000000</td>\n",
              "      <td>2.000000</td>\n",
              "      <td>8.700000e+01</td>\n",
              "      <td>0.000000</td>\n",
              "      <td>0.000000</td>\n",
              "      <td>0.000000</td>\n",
              "      <td>0.000000</td>\n",
              "    </tr>\n",
              "    <tr>\n",
              "      <th>25%</th>\n",
              "      <td>7.776325e+05</td>\n",
              "      <td>936.000000</td>\n",
              "      <td>115716.000000</td>\n",
              "      <td>16.000000</td>\n",
              "      <td>6.503500e+03</td>\n",
              "      <td>1.000000</td>\n",
              "      <td>1.480000</td>\n",
              "      <td>1.000000</td>\n",
              "      <td>0.000000</td>\n",
              "    </tr>\n",
              "    <tr>\n",
              "      <th>50%</th>\n",
              "      <td>1.121185e+06</td>\n",
              "      <td>1178.000000</td>\n",
              "      <td>144549.000000</td>\n",
              "      <td>25.000000</td>\n",
              "      <td>5.150900e+04</td>\n",
              "      <td>8.000000</td>\n",
              "      <td>12.370000</td>\n",
              "      <td>1.000000</td>\n",
              "      <td>1.000000</td>\n",
              "    </tr>\n",
              "    <tr>\n",
              "      <th>75%</th>\n",
              "      <td>1.121804e+06</td>\n",
              "      <td>1178.000000</td>\n",
              "      <td>144657.500000</td>\n",
              "      <td>31.000000</td>\n",
              "      <td>2.217690e+05</td>\n",
              "      <td>37.500000</td>\n",
              "      <td>60.025000</td>\n",
              "      <td>3.000000</td>\n",
              "      <td>1.000000</td>\n",
              "    </tr>\n",
              "    <tr>\n",
              "      <th>max</th>\n",
              "      <td>1.314415e+06</td>\n",
              "      <td>1178.000000</td>\n",
              "      <td>179982.000000</td>\n",
              "      <td>114.000000</td>\n",
              "      <td>3.052003e+06</td>\n",
              "      <td>421.000000</td>\n",
              "      <td>639.949998</td>\n",
              "      <td>60.000000</td>\n",
              "      <td>21.000000</td>\n",
              "    </tr>\n",
              "  </tbody>\n",
              "</table>\n",
              "</div>\n",
              "      <button class=\"colab-df-convert\" onclick=\"convertToInteractive('df-164b4ba6-9cd6-4d83-8a6c-3bee57ba6170')\"\n",
              "              title=\"Convert this dataframe to an interactive table.\"\n",
              "              style=\"display:none;\">\n",
              "        \n",
              "  <svg xmlns=\"http://www.w3.org/2000/svg\" height=\"24px\"viewBox=\"0 0 24 24\"\n",
              "       width=\"24px\">\n",
              "    <path d=\"M0 0h24v24H0V0z\" fill=\"none\"/>\n",
              "    <path d=\"M18.56 5.44l.94 2.06.94-2.06 2.06-.94-2.06-.94-.94-2.06-.94 2.06-2.06.94zm-11 1L8.5 8.5l.94-2.06 2.06-.94-2.06-.94L8.5 2.5l-.94 2.06-2.06.94zm10 10l.94 2.06.94-2.06 2.06-.94-2.06-.94-.94-2.06-.94 2.06-2.06.94z\"/><path d=\"M17.41 7.96l-1.37-1.37c-.4-.4-.92-.59-1.43-.59-.52 0-1.04.2-1.43.59L10.3 9.45l-7.72 7.72c-.78.78-.78 2.05 0 2.83L4 21.41c.39.39.9.59 1.41.59.51 0 1.02-.2 1.41-.59l7.78-7.78 2.81-2.81c.8-.78.8-2.07 0-2.86zM5.41 20L4 18.59l7.72-7.72 1.47 1.35L5.41 20z\"/>\n",
              "  </svg>\n",
              "      </button>\n",
              "      \n",
              "  <style>\n",
              "    .colab-df-container {\n",
              "      display:flex;\n",
              "      flex-wrap:wrap;\n",
              "      gap: 12px;\n",
              "    }\n",
              "\n",
              "    .colab-df-convert {\n",
              "      background-color: #E8F0FE;\n",
              "      border: none;\n",
              "      border-radius: 50%;\n",
              "      cursor: pointer;\n",
              "      display: none;\n",
              "      fill: #1967D2;\n",
              "      height: 32px;\n",
              "      padding: 0 0 0 0;\n",
              "      width: 32px;\n",
              "    }\n",
              "\n",
              "    .colab-df-convert:hover {\n",
              "      background-color: #E2EBFA;\n",
              "      box-shadow: 0px 1px 2px rgba(60, 64, 67, 0.3), 0px 1px 3px 1px rgba(60, 64, 67, 0.15);\n",
              "      fill: #174EA6;\n",
              "    }\n",
              "\n",
              "    [theme=dark] .colab-df-convert {\n",
              "      background-color: #3B4455;\n",
              "      fill: #D2E3FC;\n",
              "    }\n",
              "\n",
              "    [theme=dark] .colab-df-convert:hover {\n",
              "      background-color: #434B5C;\n",
              "      box-shadow: 0px 1px 3px 1px rgba(0, 0, 0, 0.15);\n",
              "      filter: drop-shadow(0px 1px 2px rgba(0, 0, 0, 0.3));\n",
              "      fill: #FFFFFF;\n",
              "    }\n",
              "  </style>\n",
              "\n",
              "      <script>\n",
              "        const buttonEl =\n",
              "          document.querySelector('#df-164b4ba6-9cd6-4d83-8a6c-3bee57ba6170 button.colab-df-convert');\n",
              "        buttonEl.style.display =\n",
              "          google.colab.kernel.accessAllowed ? 'block' : 'none';\n",
              "\n",
              "        async function convertToInteractive(key) {\n",
              "          const element = document.querySelector('#df-164b4ba6-9cd6-4d83-8a6c-3bee57ba6170');\n",
              "          const dataTable =\n",
              "            await google.colab.kernel.invokeFunction('convertToInteractive',\n",
              "                                                     [key], {});\n",
              "          if (!dataTable) return;\n",
              "\n",
              "          const docLinkHtml = 'Like what you see? Visit the ' +\n",
              "            '<a target=\"_blank\" href=https://colab.research.google.com/notebooks/data_table.ipynb>data table notebook</a>'\n",
              "            + ' to learn more about interactive tables.';\n",
              "          element.innerHTML = '';\n",
              "          dataTable['output_type'] = 'display_data';\n",
              "          await google.colab.output.renderOutput(dataTable, element);\n",
              "          const docLink = document.createElement('div');\n",
              "          docLink.innerHTML = docLinkHtml;\n",
              "          element.appendChild(docLink);\n",
              "        }\n",
              "      </script>\n",
              "    </div>\n",
              "  </div>\n",
              "  "
            ]
          },
          "metadata": {},
          "execution_count": 5
        }
      ]
    },
    {
      "cell_type": "markdown",
      "source": [
        "**Распределение данных**"
      ],
      "metadata": {
        "id": "Vpd3ACYC3KgI"
      }
    },
    {
      "cell_type": "markdown",
      "source": [
        "По рекламной реализации каждой компании XYZ"
      ],
      "metadata": {
        "id": "qAu8JYqP-_Q-"
      }
    },
    {
      "cell_type": "code",
      "source": [
        "df[\"xyz_campaign_id\"] = df[\"xyz_campaign_id\"].astype(str)\n",
        "df[\"xyz_campaign_id\"].hist()"
      ],
      "metadata": {
        "colab": {
          "base_uri": "https://localhost:8080/",
          "height": 282
        },
        "id": "i5CkgeVz_Fgu",
        "outputId": "de4c17d0-3887-4f25-cdf5-40652bcd4bb5"
      },
      "execution_count": null,
      "outputs": [
        {
          "output_type": "execute_result",
          "data": {
            "text/plain": [
              "<matplotlib.axes._subplots.AxesSubplot at 0x7f382667c820>"
            ]
          },
          "metadata": {},
          "execution_count": 6
        },
        {
          "output_type": "display_data",
          "data": {
            "text/plain": [
              "<Figure size 432x288 with 1 Axes>"
            ],
            "image/png": "[encoded data removed]"
          },
          "metadata": {
            "needs_background": "light"
          }
        }
      ]
    },
    {
      "cell_type": "code",
      "source": [
        "sns.set(style=\"whitegrid\")\n",
        "sns.barplot(x=df[\"xyz_campaign_id\"], y=df[\"interest\"], hue=df[\"age\"], data=df)"
      ],
      "metadata": {
        "colab": {
          "base_uri": "https://localhost:8080/",
          "height": 304
        },
        "id": "1CP5LwGz_1pm",
        "outputId": "e6aa950f-2980-465a-d819-faad27d138be"
      },
      "execution_count": null,
      "outputs": [
        {
          "output_type": "execute_result",
          "data": {
            "text/plain": [
              "<matplotlib.axes._subplots.AxesSubplot at 0x7f38265fcf10>"
            ]
          },
          "metadata": {},
          "execution_count": 7
        },
        {
          "output_type": "display_data",
          "data": {
            "text/plain": [
              "<Figure size 432x288 with 1 Axes>"
            ],
            "image/png": "[encoded data removed]"
          },
          "metadata": {}
        }
      ]
    },
    {
      "cell_type": "markdown",
      "source": [
        "**По возрастной категории**"
      ],
      "metadata": {
        "id": "INaRTAt-3NOn"
      }
    },
    {
      "cell_type": "code",
      "source": [
        "df[\"age\"].hist()"
      ],
      "metadata": {
        "colab": {
          "base_uri": "https://localhost:8080/",
          "height": 285
        },
        "id": "EJAoZ-5Z2Yxn",
        "outputId": "232b7410-96ed-4b3e-80ff-9881a17fa142"
      },
      "execution_count": null,
      "outputs": [
        {
          "output_type": "execute_result",
          "data": {
            "text/plain": [
              "<matplotlib.axes._subplots.AxesSubplot at 0x7f3826704c40>"
            ]
          },
          "metadata": {},
          "execution_count": 8
        },
        {
          "output_type": "display_data",
          "data": {
            "text/plain": [
              "<Figure size 432x288 with 1 Axes>"
            ],
            "image/png": "[encoded data removed]"
          },
          "metadata": {}
        }
      ]
    },
    {
      "cell_type": "markdown",
      "source": [
        "**По полу**"
      ],
      "metadata": {
        "id": "XZGznEEl3tAQ"
      }
    },
    {
      "cell_type": "code",
      "source": [
        "df[\"gender\"].hist()"
      ],
      "metadata": {
        "colab": {
          "base_uri": "https://localhost:8080/",
          "height": 285
        },
        "id": "6envHCGs3skW",
        "outputId": "c8305438-760a-4cf2-ba01-803e22a7f153"
      },
      "execution_count": null,
      "outputs": [
        {
          "output_type": "execute_result",
          "data": {
            "text/plain": [
              "<matplotlib.axes._subplots.AxesSubplot at 0x7f3826033910>"
            ]
          },
          "metadata": {},
          "execution_count": 9
        },
        {
          "output_type": "display_data",
          "data": {
            "text/plain": [
              "<Figure size 432x288 with 1 Axes>"
            ],
            "image/png": "[encoded data removed]"
          },
          "metadata": {}
        }
      ]
    },
    {
      "cell_type": "markdown",
      "source": [
        "Для расчета мер центральной тенденции рассчитаем среднее значение (mean), медиану и моду"
      ],
      "metadata": {
        "id": "DAIW9XbJ4Emn"
      }
    },
    {
      "cell_type": "markdown",
      "source": [
        "**Среднее значение**"
      ],
      "metadata": {
        "id": "Is0ZQiGc6A8-"
      }
    },
    {
      "cell_type": "code",
      "source": [
        "df.mean(axis = 0, numeric_only=True)"
      ],
      "metadata": {
        "colab": {
          "base_uri": "https://localhost:8080/"
        },
        "id": "fu96jKVd4PIB",
        "outputId": "938265f9-ab5a-461a-b42e-d3acdc181459"
      },
      "execution_count": null,
      "outputs": [
        {
          "output_type": "execute_result",
          "data": {
            "text/plain": [
              "ad_id                  987261.130359\n",
              "fb_campaign_id         133783.989501\n",
              "interest                   32.766404\n",
              "Impressions            186732.132983\n",
              "Clicks                     33.390201\n",
              "Spent                      51.360656\n",
              "Total_Conversion            2.855643\n",
              "Approved_Conversion         0.944007\n",
              "dtype: float64"
            ]
          },
          "metadata": {},
          "execution_count": 10
        }
      ]
    },
    {
      "cell_type": "markdown",
      "source": [
        "**Медиана**"
      ],
      "metadata": {
        "id": "1kjGEHK06Cxu"
      }
    },
    {
      "cell_type": "code",
      "source": [
        "df.median(axis=0, numeric_only=True)"
      ],
      "metadata": {
        "colab": {
          "base_uri": "https://localhost:8080/"
        },
        "id": "JlfUlCMI6LUY",
        "outputId": "de90b496-78d9-4c85-a322-5f27db7124b1"
      },
      "execution_count": null,
      "outputs": [
        {
          "output_type": "execute_result",
          "data": {
            "text/plain": [
              "ad_id                  1121185.00\n",
              "fb_campaign_id          144549.00\n",
              "interest                    25.00\n",
              "Impressions              51509.00\n",
              "Clicks                       8.00\n",
              "Spent                       12.37\n",
              "Total_Conversion             1.00\n",
              "Approved_Conversion          1.00\n",
              "dtype: float64"
            ]
          },
          "metadata": {},
          "execution_count": 11
        }
      ]
    },
    {
      "cell_type": "markdown",
      "source": [
        "**Мода**"
      ],
      "metadata": {
        "id": "3ZEe7QE_6jy2"
      }
    },
    {
      "cell_type": "code",
      "source": [
        "df.mode()"
      ],
      "metadata": {
        "colab": {
          "base_uri": "https://localhost:8080/",
          "height": 424
        },
        "id": "nuojKsgf6kq2",
        "outputId": "68279df9-8448-40b6-a287-bed01a03aae1"
      },
      "execution_count": null,
      "outputs": [
        {
          "output_type": "execute_result",
          "data": {
            "text/plain": [
              "        ad_id xyz_campaign_id  fb_campaign_id    age gender  interest  \\\n",
              "0      708746            1178        144536.0  30-34      M      16.0   \n",
              "1      708749             NaN        144562.0    NaN    NaN       NaN   \n",
              "2      708771             NaN        144599.0    NaN    NaN       NaN   \n",
              "3      708815             NaN        144611.0    NaN    NaN       NaN   \n",
              "4      708818             NaN        144636.0    NaN    NaN       NaN   \n",
              "...       ...             ...             ...    ...    ...       ...   \n",
              "1138  1314410             NaN             NaN    NaN    NaN       NaN   \n",
              "1139  1314411             NaN             NaN    NaN    NaN       NaN   \n",
              "1140  1314412             NaN             NaN    NaN    NaN       NaN   \n",
              "1141  1314414             NaN             NaN    NaN    NaN       NaN   \n",
              "1142  1314415             NaN             NaN    NaN    NaN       NaN   \n",
              "\n",
              "      Impressions  Clicks  Spent  Total_Conversion  Approved_Conversion  \n",
              "0           152.0     0.0    0.0               1.0                  0.0  \n",
              "1           529.0     NaN    NaN               NaN                  NaN  \n",
              "2          1030.0     NaN    NaN               NaN                  NaN  \n",
              "3          1273.0     NaN    NaN               NaN                  NaN  \n",
              "4          1539.0     NaN    NaN               NaN                  NaN  \n",
              "...           ...     ...    ...               ...                  ...  \n",
              "1138          NaN     NaN    NaN               NaN                  NaN  \n",
              "1139          NaN     NaN    NaN               NaN                  NaN  \n",
              "1140          NaN     NaN    NaN               NaN                  NaN  \n",
              "1141          NaN     NaN    NaN               NaN                  NaN  \n",
              "1142          NaN     NaN    NaN               NaN                  NaN  \n",
              "\n",
              "[1143 rows x 11 columns]"
            ],
            "text/html": [
              "\n",
              "  <div id=\"df-8c5f55df-c7ef-4eb9-8599-2d0daf413b40\">\n",
              "    <div class=\"colab-df-container\">\n",
              "      <div>\n",
              "<style scoped>\n",
              "    .dataframe tbody tr th:only-of-type {\n",
              "        vertical-align: middle;\n",
              "    }\n",
              "\n",
              "    .dataframe tbody tr th {\n",
              "        vertical-align: top;\n",
              "    }\n",
              "\n",
              "    .dataframe thead th {\n",
              "        text-align: right;\n",
              "    }\n",
              "</style>\n",
              "<table border=\"1\" class=\"dataframe\">\n",
              "  <thead>\n",
              "    <tr style=\"text-align: right;\">\n",
              "      <th></th>\n",
              "      <th>ad_id</th>\n",
              "      <th>xyz_campaign_id</th>\n",
              "      <th>fb_campaign_id</th>\n",
              "      <th>age</th>\n",
              "      <th>gender</th>\n",
              "      <th>interest</th>\n",
              "      <th>Impressions</th>\n",
              "      <th>Clicks</th>\n",
              "      <th>Spent</th>\n",
              "      <th>Total_Conversion</th>\n",
              "      <th>Approved_Conversion</th>\n",
              "    </tr>\n",
              "  </thead>\n",
              "  <tbody>\n",
              "    <tr>\n",
              "      <th>0</th>\n",
              "      <td>708746</td>\n",
              "      <td>1178</td>\n",
              "      <td>144536.0</td>\n",
              "      <td>30-34</td>\n",
              "      <td>M</td>\n",
              "      <td>16.0</td>\n",
              "      <td>152.0</td>\n",
              "      <td>0.0</td>\n",
              "      <td>0.0</td>\n",
              "      <td>1.0</td>\n",
              "      <td>0.0</td>\n",
              "    </tr>\n",
              "    <tr>\n",
              "      <th>1</th>\n",
              "      <td>708749</td>\n",
              "      <td>NaN</td>\n",
              "      <td>144562.0</td>\n",
              "      <td>NaN</td>\n",
              "      <td>NaN</td>\n",
              "      <td>NaN</td>\n",
              "      <td>529.0</td>\n",
              "      <td>NaN</td>\n",
              "      <td>NaN</td>\n",
              "      <td>NaN</td>\n",
              "      <td>NaN</td>\n",
              "    </tr>\n",
              "    <tr>\n",
              "      <th>2</th>\n",
              "      <td>708771</td>\n",
              "      <td>NaN</td>\n",
              "      <td>144599.0</td>\n",
              "      <td>NaN</td>\n",
              "      <td>NaN</td>\n",
              "      <td>NaN</td>\n",
              "      <td>1030.0</td>\n",
              "      <td>NaN</td>\n",
              "      <td>NaN</td>\n",
              "      <td>NaN</td>\n",
              "      <td>NaN</td>\n",
              "    </tr>\n",
              "    <tr>\n",
              "      <th>3</th>\n",
              "      <td>708815</td>\n",
              "      <td>NaN</td>\n",
              "      <td>144611.0</td>\n",
              "      <td>NaN</td>\n",
              "      <td>NaN</td>\n",
              "      <td>NaN</td>\n",
              "      <td>1273.0</td>\n",
              "      <td>NaN</td>\n",
              "      <td>NaN</td>\n",
              "      <td>NaN</td>\n",
              "      <td>NaN</td>\n",
              "    </tr>\n",
              "    <tr>\n",
              "      <th>4</th>\n",
              "      <td>708818</td>\n",
              "      <td>NaN</td>\n",
              "      <td>144636.0</td>\n",
              "      <td>NaN</td>\n",
              "      <td>NaN</td>\n",
              "      <td>NaN</td>\n",
              "      <td>1539.0</td>\n",
              "      <td>NaN</td>\n",
              "      <td>NaN</td>\n",
              "      <td>NaN</td>\n",
              "      <td>NaN</td>\n",
              "    </tr>\n",
              "    <tr>\n",
              "      <th>...</th>\n",
              "      <td>...</td>\n",
              "      <td>...</td>\n",
              "      <td>...</td>\n",
              "      <td>...</td>\n",
              "      <td>...</td>\n",
              "      <td>...</td>\n",
              "      <td>...</td>\n",
              "      <td>...</td>\n",
              "      <td>...</td>\n",
              "      <td>...</td>\n",
              "      <td>...</td>\n",
              "    </tr>\n",
              "    <tr>\n",
              "      <th>1138</th>\n",
              "      <td>1314410</td>\n",
              "      <td>NaN</td>\n",
              "      <td>NaN</td>\n",
              "      <td>NaN</td>\n",
              "      <td>NaN</td>\n",
              "      <td>NaN</td>\n",
              "      <td>NaN</td>\n",
              "      <td>NaN</td>\n",
              "      <td>NaN</td>\n",
              "      <td>NaN</td>\n",
              "      <td>NaN</td>\n",
              "    </tr>\n",
              "    <tr>\n",
              "      <th>1139</th>\n",
              "      <td>1314411</td>\n",
              "      <td>NaN</td>\n",
              "      <td>NaN</td>\n",
              "      <td>NaN</td>\n",
              "      <td>NaN</td>\n",
              "      <td>NaN</td>\n",
              "      <td>NaN</td>\n",
              "      <td>NaN</td>\n",
              "      <td>NaN</td>\n",
              "      <td>NaN</td>\n",
              "      <td>NaN</td>\n",
              "    </tr>\n",
              "    <tr>\n",
              "      <th>1140</th>\n",
              "      <td>1314412</td>\n",
              "      <td>NaN</td>\n",
              "      <td>NaN</td>\n",
              "      <td>NaN</td>\n",
              "      <td>NaN</td>\n",
              "      <td>NaN</td>\n",
              "      <td>NaN</td>\n",
              "      <td>NaN</td>\n",
              "      <td>NaN</td>\n",
              "      <td>NaN</td>\n",
              "      <td>NaN</td>\n",
              "    </tr>\n",
              "    <tr>\n",
              "      <th>1141</th>\n",
              "      <td>1314414</td>\n",
              "      <td>NaN</td>\n",
              "      <td>NaN</td>\n",
              "      <td>NaN</td>\n",
              "      <td>NaN</td>\n",
              "      <td>NaN</td>\n",
              "      <td>NaN</td>\n",
              "      <td>NaN</td>\n",
              "      <td>NaN</td>\n",
              "      <td>NaN</td>\n",
              "      <td>NaN</td>\n",
              "    </tr>\n",
              "    <tr>\n",
              "      <th>1142</th>\n",
              "      <td>1314415</td>\n",
              "      <td>NaN</td>\n",
              "      <td>NaN</td>\n",
              "      <td>NaN</td>\n",
              "      <td>NaN</td>\n",
              "      <td>NaN</td>\n",
              "      <td>NaN</td>\n",
              "      <td>NaN</td>\n",
              "      <td>NaN</td>\n",
              "      <td>NaN</td>\n",
              "      <td>NaN</td>\n",
              "    </tr>\n",
              "  </tbody>\n",
              "</table>\n",
              "<p>1143 rows × 11 columns</p>\n",
              "</div>\n",
              "      <button class=\"colab-df-convert\" onclick=\"convertToInteractive('df-8c5f55df-c7ef-4eb9-8599-2d0daf413b40')\"\n",
              "              title=\"Convert this dataframe to an interactive table.\"\n",
              "              style=\"display:none;\">\n",
              "        \n",
              "  <svg xmlns=\"http://www.w3.org/2000/svg\" height=\"24px\"viewBox=\"0 0 24 24\"\n",
              "       width=\"24px\">\n",
              "    <path d=\"M0 0h24v24H0V0z\" fill=\"none\"/>\n",
              "    <path d=\"M18.56 5.44l.94 2.06.94-2.06 2.06-.94-2.06-.94-.94-2.06-.94 2.06-2.06.94zm-11 1L8.5 8.5l.94-2.06 2.06-.94-2.06-.94L8.5 2.5l-.94 2.06-2.06.94zm10 10l.94 2.06.94-2.06 2.06-.94-2.06-.94-.94-2.06-.94 2.06-2.06.94z\"/><path d=\"M17.41 7.96l-1.37-1.37c-.4-.4-.92-.59-1.43-.59-.52 0-1.04.2-1.43.59L10.3 9.45l-7.72 7.72c-.78.78-.78 2.05 0 2.83L4 21.41c.39.39.9.59 1.41.59.51 0 1.02-.2 1.41-.59l7.78-7.78 2.81-2.81c.8-.78.8-2.07 0-2.86zM5.41 20L4 18.59l7.72-7.72 1.47 1.35L5.41 20z\"/>\n",
              "  </svg>\n",
              "      </button>\n",
              "      \n",
              "  <style>\n",
              "    .colab-df-container {\n",
              "      display:flex;\n",
              "      flex-wrap:wrap;\n",
              "      gap: 12px;\n",
              "    }\n",
              "\n",
              "    .colab-df-convert {\n",
              "      background-color: #E8F0FE;\n",
              "      border: none;\n",
              "      border-radius: 50%;\n",
              "      cursor: pointer;\n",
              "      display: none;\n",
              "      fill: #1967D2;\n",
              "      height: 32px;\n",
              "      padding: 0 0 0 0;\n",
              "      width: 32px;\n",
              "    }\n",
              "\n",
              "    .colab-df-convert:hover {\n",
              "      background-color: #E2EBFA;\n",
              "      box-shadow: 0px 1px 2px rgba(60, 64, 67, 0.3), 0px 1px 3px 1px rgba(60, 64, 67, 0.15);\n",
              "      fill: #174EA6;\n",
              "    }\n",
              "\n",
              "    [theme=dark] .colab-df-convert {\n",
              "      background-color: #3B4455;\n",
              "      fill: #D2E3FC;\n",
              "    }\n",
              "\n",
              "    [theme=dark] .colab-df-convert:hover {\n",
              "      background-color: #434B5C;\n",
              "      box-shadow: 0px 1px 3px 1px rgba(0, 0, 0, 0.15);\n",
              "      filter: drop-shadow(0px 1px 2px rgba(0, 0, 0, 0.3));\n",
              "      fill: #FFFFFF;\n",
              "    }\n",
              "  </style>\n",
              "\n",
              "      <script>\n",
              "        const buttonEl =\n",
              "          document.querySelector('#df-8c5f55df-c7ef-4eb9-8599-2d0daf413b40 button.colab-df-convert');\n",
              "        buttonEl.style.display =\n",
              "          google.colab.kernel.accessAllowed ? 'block' : 'none';\n",
              "\n",
              "        async function convertToInteractive(key) {\n",
              "          const element = document.querySelector('#df-8c5f55df-c7ef-4eb9-8599-2d0daf413b40');\n",
              "          const dataTable =\n",
              "            await google.colab.kernel.invokeFunction('convertToInteractive',\n",
              "                                                     [key], {});\n",
              "          if (!dataTable) return;\n",
              "\n",
              "          const docLinkHtml = 'Like what you see? Visit the ' +\n",
              "            '<a target=\"_blank\" href=https://colab.research.google.com/notebooks/data_table.ipynb>data table notebook</a>'\n",
              "            + ' to learn more about interactive tables.';\n",
              "          element.innerHTML = '';\n",
              "          dataTable['output_type'] = 'display_data';\n",
              "          await google.colab.output.renderOutput(dataTable, element);\n",
              "          const docLink = document.createElement('div');\n",
              "          docLink.innerHTML = docLinkHtml;\n",
              "          element.appendChild(docLink);\n",
              "        }\n",
              "      </script>\n",
              "    </div>\n",
              "  </div>\n",
              "  "
            ]
          },
          "metadata": {},
          "execution_count": 12
        }
      ]
    },
    {
      "cell_type": "markdown",
      "source": [
        "Для того, чтобы меры центральной тенденции лучше продемонстрировали картину распределения данных и позволили сделать выводы, повторно вызываем функцию describe() для просмотра квартилей"
      ],
      "metadata": {
        "id": "OzuzjYD08B7Z"
      }
    },
    {
      "cell_type": "code",
      "source": [
        "df.describe()"
      ],
      "metadata": {
        "colab": {
          "base_uri": "https://localhost:8080/",
          "height": 300
        },
        "id": "AI_LD5KS6tAx",
        "outputId": "751c091f-296e-4000-e705-5d1ec5652c3e"
      },
      "execution_count": null,
      "outputs": [
        {
          "output_type": "execute_result",
          "data": {
            "text/plain": [
              "              ad_id  fb_campaign_id     interest   Impressions       Clicks  \\\n",
              "count  1.143000e+03     1143.000000  1143.000000  1.143000e+03  1143.000000   \n",
              "mean   9.872611e+05   133783.989501    32.766404  1.867321e+05    33.390201   \n",
              "std    1.939928e+05    20500.308622    26.952131  3.127622e+05    56.892438   \n",
              "min    7.087460e+05   103916.000000     2.000000  8.700000e+01     0.000000   \n",
              "25%    7.776325e+05   115716.000000    16.000000  6.503500e+03     1.000000   \n",
              "50%    1.121185e+06   144549.000000    25.000000  5.150900e+04     8.000000   \n",
              "75%    1.121804e+06   144657.500000    31.000000  2.217690e+05    37.500000   \n",
              "max    1.314415e+06   179982.000000   114.000000  3.052003e+06   421.000000   \n",
              "\n",
              "             Spent  Total_Conversion  Approved_Conversion  \n",
              "count  1143.000000       1143.000000          1143.000000  \n",
              "mean     51.360656          2.855643             0.944007  \n",
              "std      86.908418          4.483593             1.737708  \n",
              "min       0.000000          0.000000             0.000000  \n",
              "25%       1.480000          1.000000             0.000000  \n",
              "50%      12.370000          1.000000             1.000000  \n",
              "75%      60.025000          3.000000             1.000000  \n",
              "max     639.949998         60.000000            21.000000  "
            ],
            "text/html": [
              "\n",
              "  <div id=\"df-365e6624-720b-4075-bfed-69e514dad56a\">\n",
              "    <div class=\"colab-df-container\">\n",
              "      <div>\n",
              "<style scoped>\n",
              "    .dataframe tbody tr th:only-of-type {\n",
              "        vertical-align: middle;\n",
              "    }\n",
              "\n",
              "    .dataframe tbody tr th {\n",
              "        vertical-align: top;\n",
              "    }\n",
              "\n",
              "    .dataframe thead th {\n",
              "        text-align: right;\n",
              "    }\n",
              "</style>\n",
              "<table border=\"1\" class=\"dataframe\">\n",
              "  <thead>\n",
              "    <tr style=\"text-align: right;\">\n",
              "      <th></th>\n",
              "      <th>ad_id</th>\n",
              "      <th>fb_campaign_id</th>\n",
              "      <th>interest</th>\n",
              "      <th>Impressions</th>\n",
              "      <th>Clicks</th>\n",
              "      <th>Spent</th>\n",
              "      <th>Total_Conversion</th>\n",
              "      <th>Approved_Conversion</th>\n",
              "    </tr>\n",
              "  </thead>\n",
              "  <tbody>\n",
              "    <tr>\n",
              "      <th>count</th>\n",
              "      <td>1.143000e+03</td>\n",
              "      <td>1143.000000</td>\n",
              "      <td>1143.000000</td>\n",
              "      <td>1.143000e+03</td>\n",
              "      <td>1143.000000</td>\n",
              "      <td>1143.000000</td>\n",
              "      <td>1143.000000</td>\n",
              "      <td>1143.000000</td>\n",
              "    </tr>\n",
              "    <tr>\n",
              "      <th>mean</th>\n",
              "      <td>9.872611e+05</td>\n",
              "      <td>133783.989501</td>\n",
              "      <td>32.766404</td>\n",
              "      <td>1.867321e+05</td>\n",
              "      <td>33.390201</td>\n",
              "      <td>51.360656</td>\n",
              "      <td>2.855643</td>\n",
              "      <td>0.944007</td>\n",
              "    </tr>\n",
              "    <tr>\n",
              "      <th>std</th>\n",
              "      <td>1.939928e+05</td>\n",
              "      <td>20500.308622</td>\n",
              "      <td>26.952131</td>\n",
              "      <td>3.127622e+05</td>\n",
              "      <td>56.892438</td>\n",
              "      <td>86.908418</td>\n",
              "      <td>4.483593</td>\n",
              "      <td>1.737708</td>\n",
              "    </tr>\n",
              "    <tr>\n",
              "      <th>min</th>\n",
              "      <td>7.087460e+05</td>\n",
              "      <td>103916.000000</td>\n",
              "      <td>2.000000</td>\n",
              "      <td>8.700000e+01</td>\n",
              "      <td>0.000000</td>\n",
              "      <td>0.000000</td>\n",
              "      <td>0.000000</td>\n",
              "      <td>0.000000</td>\n",
              "    </tr>\n",
              "    <tr>\n",
              "      <th>25%</th>\n",
              "      <td>7.776325e+05</td>\n",
              "      <td>115716.000000</td>\n",
              "      <td>16.000000</td>\n",
              "      <td>6.503500e+03</td>\n",
              "      <td>1.000000</td>\n",
              "      <td>1.480000</td>\n",
              "      <td>1.000000</td>\n",
              "      <td>0.000000</td>\n",
              "    </tr>\n",
              "    <tr>\n",
              "      <th>50%</th>\n",
              "      <td>1.121185e+06</td>\n",
              "      <td>144549.000000</td>\n",
              "      <td>25.000000</td>\n",
              "      <td>5.150900e+04</td>\n",
              "      <td>8.000000</td>\n",
              "      <td>12.370000</td>\n",
              "      <td>1.000000</td>\n",
              "      <td>1.000000</td>\n",
              "    </tr>\n",
              "    <tr>\n",
              "      <th>75%</th>\n",
              "      <td>1.121804e+06</td>\n",
              "      <td>144657.500000</td>\n",
              "      <td>31.000000</td>\n",
              "      <td>2.217690e+05</td>\n",
              "      <td>37.500000</td>\n",
              "      <td>60.025000</td>\n",
              "      <td>3.000000</td>\n",
              "      <td>1.000000</td>\n",
              "    </tr>\n",
              "    <tr>\n",
              "      <th>max</th>\n",
              "      <td>1.314415e+06</td>\n",
              "      <td>179982.000000</td>\n",
              "      <td>114.000000</td>\n",
              "      <td>3.052003e+06</td>\n",
              "      <td>421.000000</td>\n",
              "      <td>639.949998</td>\n",
              "      <td>60.000000</td>\n",
              "      <td>21.000000</td>\n",
              "    </tr>\n",
              "  </tbody>\n",
              "</table>\n",
              "</div>\n",
              "      <button class=\"colab-df-convert\" onclick=\"convertToInteractive('df-365e6624-720b-4075-bfed-69e514dad56a')\"\n",
              "              title=\"Convert this dataframe to an interactive table.\"\n",
              "              style=\"display:none;\">\n",
              "        \n",
              "  <svg xmlns=\"http://www.w3.org/2000/svg\" height=\"24px\"viewBox=\"0 0 24 24\"\n",
              "       width=\"24px\">\n",
              "    <path d=\"M0 0h24v24H0V0z\" fill=\"none\"/>\n",
              "    <path d=\"M18.56 5.44l.94 2.06.94-2.06 2.06-.94-2.06-.94-.94-2.06-.94 2.06-2.06.94zm-11 1L8.5 8.5l.94-2.06 2.06-.94-2.06-.94L8.5 2.5l-.94 2.06-2.06.94zm10 10l.94 2.06.94-2.06 2.06-.94-2.06-.94-.94-2.06-.94 2.06-2.06.94z\"/><path d=\"M17.41 7.96l-1.37-1.37c-.4-.4-.92-.59-1.43-.59-.52 0-1.04.2-1.43.59L10.3 9.45l-7.72 7.72c-.78.78-.78 2.05 0 2.83L4 21.41c.39.39.9.59 1.41.59.51 0 1.02-.2 1.41-.59l7.78-7.78 2.81-2.81c.8-.78.8-2.07 0-2.86zM5.41 20L4 18.59l7.72-7.72 1.47 1.35L5.41 20z\"/>\n",
              "  </svg>\n",
              "      </button>\n",
              "      \n",
              "  <style>\n",
              "    .colab-df-container {\n",
              "      display:flex;\n",
              "      flex-wrap:wrap;\n",
              "      gap: 12px;\n",
              "    }\n",
              "\n",
              "    .colab-df-convert {\n",
              "      background-color: #E8F0FE;\n",
              "      border: none;\n",
              "      border-radius: 50%;\n",
              "      cursor: pointer;\n",
              "      display: none;\n",
              "      fill: #1967D2;\n",
              "      height: 32px;\n",
              "      padding: 0 0 0 0;\n",
              "      width: 32px;\n",
              "    }\n",
              "\n",
              "    .colab-df-convert:hover {\n",
              "      background-color: #E2EBFA;\n",
              "      box-shadow: 0px 1px 2px rgba(60, 64, 67, 0.3), 0px 1px 3px 1px rgba(60, 64, 67, 0.15);\n",
              "      fill: #174EA6;\n",
              "    }\n",
              "\n",
              "    [theme=dark] .colab-df-convert {\n",
              "      background-color: #3B4455;\n",
              "      fill: #D2E3FC;\n",
              "    }\n",
              "\n",
              "    [theme=dark] .colab-df-convert:hover {\n",
              "      background-color: #434B5C;\n",
              "      box-shadow: 0px 1px 3px 1px rgba(0, 0, 0, 0.15);\n",
              "      filter: drop-shadow(0px 1px 2px rgba(0, 0, 0, 0.3));\n",
              "      fill: #FFFFFF;\n",
              "    }\n",
              "  </style>\n",
              "\n",
              "      <script>\n",
              "        const buttonEl =\n",
              "          document.querySelector('#df-365e6624-720b-4075-bfed-69e514dad56a button.colab-df-convert');\n",
              "        buttonEl.style.display =\n",
              "          google.colab.kernel.accessAllowed ? 'block' : 'none';\n",
              "\n",
              "        async function convertToInteractive(key) {\n",
              "          const element = document.querySelector('#df-365e6624-720b-4075-bfed-69e514dad56a');\n",
              "          const dataTable =\n",
              "            await google.colab.kernel.invokeFunction('convertToInteractive',\n",
              "                                                     [key], {});\n",
              "          if (!dataTable) return;\n",
              "\n",
              "          const docLinkHtml = 'Like what you see? Visit the ' +\n",
              "            '<a target=\"_blank\" href=https://colab.research.google.com/notebooks/data_table.ipynb>data table notebook</a>'\n",
              "            + ' to learn more about interactive tables.';\n",
              "          element.innerHTML = '';\n",
              "          dataTable['output_type'] = 'display_data';\n",
              "          await google.colab.output.renderOutput(dataTable, element);\n",
              "          const docLink = document.createElement('div');\n",
              "          docLink.innerHTML = docLinkHtml;\n",
              "          element.appendChild(docLink);\n",
              "        }\n",
              "      </script>\n",
              "    </div>\n",
              "  </div>\n",
              "  "
            ]
          },
          "metadata": {},
          "execution_count": 13
        }
      ]
    },
    {
      "cell_type": "markdown",
      "source": [
        "Получается, что первая треть всех людей имеют в среднем показатель интереса около 16, следующая треть колеблется в районе 25 и последняя в районе 31. Это при среднем значении интереса по всем людям в целом, равном около 33.\n",
        "Вывод: не все люди имеют больший интерес к объявлениям"
      ],
      "metadata": {
        "id": "DAoUKJak80QX"
      }
    },
    {
      "cell_type": "markdown",
      "source": [
        "**Непараметрические тесты**"
      ],
      "metadata": {
        "id": "hRwXLLwsx5_U"
      }
    },
    {
      "cell_type": "markdown",
      "source": [
        "Далее проверим следующую гипотезу используя критерий **Хи-квадрат** независимости:\n",
        "\n",
        "**нулевая** - выбор той или иной компании зависит от возраста\n",
        "\n",
        "**альтернативная** - выбор той или иной кампании не зависит от возраста"
      ],
      "metadata": {
        "id": "4uIklniYtHU6"
      }
    },
    {
      "cell_type": "code",
      "source": [
        "cross_tab = pd.crosstab(df.age, df.xyz_campaign_id, margins = True)\n",
        "\n",
        "cross_tab\n",
        "\n",
        "cross_tab.columns = [\"1178\",\"916\",\"936\",\"row_totals\"]\n",
        "\n",
        "cross_tab.index = [\"30-34\",\"35-39\",\"40-44\",\"45-49\",\"col_totals\"]\n",
        "\n",
        "observed = cross_tab.iloc[0:4,0:3]   # Get table without totals for later use\n",
        "observed"
      ],
      "metadata": {
        "colab": {
          "base_uri": "https://localhost:8080/",
          "height": 175
        },
        "id": "gMeRAuJ-jeF9",
        "outputId": "45899d80-6d5d-497f-88b4-4d6936636489"
      },
      "execution_count": null,
      "outputs": [
        {
          "output_type": "execute_result",
          "data": {
            "text/plain": [
              "       1178  916  936\n",
              "30-34   201   29  196\n",
              "35-39   147   12   89\n",
              "40-44   129    6   75\n",
              "45-49   148    7  104"
            ],
            "text/html": [
              "\n",
              "  <div id=\"df-1057ea6b-8ce1-49a9-a994-ed5e168d365f\">\n",
              "    <div class=\"colab-df-container\">\n",
              "      <div>\n",
              "<style scoped>\n",
              "    .dataframe tbody tr th:only-of-type {\n",
              "        vertical-align: middle;\n",
              "    }\n",
              "\n",
              "    .dataframe tbody tr th {\n",
              "        vertical-align: top;\n",
              "    }\n",
              "\n",
              "    .dataframe thead th {\n",
              "        text-align: right;\n",
              "    }\n",
              "</style>\n",
              "<table border=\"1\" class=\"dataframe\">\n",
              "  <thead>\n",
              "    <tr style=\"text-align: right;\">\n",
              "      <th></th>\n",
              "      <th>1178</th>\n",
              "      <th>916</th>\n",
              "      <th>936</th>\n",
              "    </tr>\n",
              "  </thead>\n",
              "  <tbody>\n",
              "    <tr>\n",
              "      <th>30-34</th>\n",
              "      <td>201</td>\n",
              "      <td>29</td>\n",
              "      <td>196</td>\n",
              "    </tr>\n",
              "    <tr>\n",
              "      <th>35-39</th>\n",
              "      <td>147</td>\n",
              "      <td>12</td>\n",
              "      <td>89</td>\n",
              "    </tr>\n",
              "    <tr>\n",
              "      <th>40-44</th>\n",
              "      <td>129</td>\n",
              "      <td>6</td>\n",
              "      <td>75</td>\n",
              "    </tr>\n",
              "    <tr>\n",
              "      <th>45-49</th>\n",
              "      <td>148</td>\n",
              "      <td>7</td>\n",
              "      <td>104</td>\n",
              "    </tr>\n",
              "  </tbody>\n",
              "</table>\n",
              "</div>\n",
              "      <button class=\"colab-df-convert\" onclick=\"convertToInteractive('df-1057ea6b-8ce1-49a9-a994-ed5e168d365f')\"\n",
              "              title=\"Convert this dataframe to an interactive table.\"\n",
              "              style=\"display:none;\">\n",
              "        \n",
              "  <svg xmlns=\"http://www.w3.org/2000/svg\" height=\"24px\"viewBox=\"0 0 24 24\"\n",
              "       width=\"24px\">\n",
              "    <path d=\"M0 0h24v24H0V0z\" fill=\"none\"/>\n",
              "    <path d=\"M18.56 5.44l.94 2.06.94-2.06 2.06-.94-2.06-.94-.94-2.06-.94 2.06-2.06.94zm-11 1L8.5 8.5l.94-2.06 2.06-.94-2.06-.94L8.5 2.5l-.94 2.06-2.06.94zm10 10l.94 2.06.94-2.06 2.06-.94-2.06-.94-.94-2.06-.94 2.06-2.06.94z\"/><path d=\"M17.41 7.96l-1.37-1.37c-.4-.4-.92-.59-1.43-.59-.52 0-1.04.2-1.43.59L10.3 9.45l-7.72 7.72c-.78.78-.78 2.05 0 2.83L4 21.41c.39.39.9.59 1.41.59.51 0 1.02-.2 1.41-.59l7.78-7.78 2.81-2.81c.8-.78.8-2.07 0-2.86zM5.41 20L4 18.59l7.72-7.72 1.47 1.35L5.41 20z\"/>\n",
              "  </svg>\n",
              "      </button>\n",
              "      \n",
              "  <style>\n",
              "    .colab-df-container {\n",
              "      display:flex;\n",
              "      flex-wrap:wrap;\n",
              "      gap: 12px;\n",
              "    }\n",
              "\n",
              "    .colab-df-convert {\n",
              "      background-color: #E8F0FE;\n",
              "      border: none;\n",
              "      border-radius: 50%;\n",
              "      cursor: pointer;\n",
              "      display: none;\n",
              "      fill: #1967D2;\n",
              "      height: 32px;\n",
              "      padding: 0 0 0 0;\n",
              "      width: 32px;\n",
              "    }\n",
              "\n",
              "    .colab-df-convert:hover {\n",
              "      background-color: #E2EBFA;\n",
              "      box-shadow: 0px 1px 2px rgba(60, 64, 67, 0.3), 0px 1px 3px 1px rgba(60, 64, 67, 0.15);\n",
              "      fill: #174EA6;\n",
              "    }\n",
              "\n",
              "    [theme=dark] .colab-df-convert {\n",
              "      background-color: #3B4455;\n",
              "      fill: #D2E3FC;\n",
              "    }\n",
              "\n",
              "    [theme=dark] .colab-df-convert:hover {\n",
              "      background-color: #434B5C;\n",
              "      box-shadow: 0px 1px 3px 1px rgba(0, 0, 0, 0.15);\n",
              "      filter: drop-shadow(0px 1px 2px rgba(0, 0, 0, 0.3));\n",
              "      fill: #FFFFFF;\n",
              "    }\n",
              "  </style>\n",
              "\n",
              "      <script>\n",
              "        const buttonEl =\n",
              "          document.querySelector('#df-1057ea6b-8ce1-49a9-a994-ed5e168d365f button.colab-df-convert');\n",
              "        buttonEl.style.display =\n",
              "          google.colab.kernel.accessAllowed ? 'block' : 'none';\n",
              "\n",
              "        async function convertToInteractive(key) {\n",
              "          const element = document.querySelector('#df-1057ea6b-8ce1-49a9-a994-ed5e168d365f');\n",
              "          const dataTable =\n",
              "            await google.colab.kernel.invokeFunction('convertToInteractive',\n",
              "                                                     [key], {});\n",
              "          if (!dataTable) return;\n",
              "\n",
              "          const docLinkHtml = 'Like what you see? Visit the ' +\n",
              "            '<a target=\"_blank\" href=https://colab.research.google.com/notebooks/data_table.ipynb>data table notebook</a>'\n",
              "            + ' to learn more about interactive tables.';\n",
              "          element.innerHTML = '';\n",
              "          dataTable['output_type'] = 'display_data';\n",
              "          await google.colab.output.renderOutput(dataTable, element);\n",
              "          const docLink = document.createElement('div');\n",
              "          docLink.innerHTML = docLinkHtml;\n",
              "          element.appendChild(docLink);\n",
              "        }\n",
              "      </script>\n",
              "    </div>\n",
              "  </div>\n",
              "  "
            ]
          },
          "metadata": {},
          "execution_count": 36
        }
      ]
    },
    {
      "cell_type": "code",
      "source": [
        "# (степени свободы определяются как произведение количеств значений категориальных переменных минус 1, в данном случае: 3*2=6)\n",
        "crit = stats.chi2.ppf(q = 0.95, # Find the critical value for 95% confidence*\n",
        "                      df = 6)\n",
        "\n",
        "print(\"Критическое значение\", crit)\n",
        "stats.chi2_contingency(observed= observed)"
      ],
      "metadata": {
        "colab": {
          "base_uri": "https://localhost:8080/"
        },
        "id": "V-WOr4kZovki",
        "outputId": "8317504b-c887-46ba-aa1f-48c000b7b73e"
      },
      "execution_count": null,
      "outputs": [
        {
          "output_type": "stream",
          "name": "stdout",
          "text": [
            "Критическое значение 12.591587243743977\n"
          ]
        },
        {
          "output_type": "execute_result",
          "data": {
            "text/plain": [
              "(20.757560858513468,\n",
              " 0.00202794285468597,\n",
              " 6,\n",
              " array([[232.93963255,  20.12598425, 172.9343832 ],\n",
              "        [135.60804899,  11.71653543, 100.67541557],\n",
              "        [114.82939633,   9.92125984,  85.24934383],\n",
              "        [141.62292213,  12.23622047, 105.14085739]]))"
            ]
          },
          "metadata": {},
          "execution_count": 38
        }
      ]
    },
    {
      "cell_type": "markdown",
      "source": [
        "*   **Статистика теста хи-квадрат**: 20,76, а критическое значение хи-квадрата: 12,6\n",
        "*   **р-значение**: 0,002\n",
        "*   **Степени свободы**: 6\n",
        "*   **Массив**: последний массив отображает ожидаемые значения для каждой ячейки в таблице непредвиденных обстоятельств.\n",
        "\n",
        "Во-первых, значение Хи-квадрата больше, чем критическое его значение, поэтому нулевая гипотеза отвергается;\n",
        "\n",
        "Во-вторых, поскольку p-значение (0,002) теста меньше 0,05, мы отвергаем нулевую гипотезу. Это означает, что у нас нет доказательств того, что существует связь между возрастом и выбором рекламной кампании."
      ],
      "metadata": {
        "id": "lHMcQECfr23C"
      }
    },
    {
      "cell_type": "markdown",
      "source": [
        "**Z-оценка**\n",
        "\n",
        "Исследуем значения количества кликов по рекламе на отклонения с помощью Z-оценки"
      ],
      "metadata": {
        "id": "9SszvO6ZzWe0"
      }
    },
    {
      "cell_type": "markdown",
      "source": [
        "Визуализируем данные по кликам по рекламе"
      ],
      "metadata": {
        "id": "UUDzxsiRAsd3"
      }
    },
    {
      "cell_type": "code",
      "source": [
        "from matplotlib import pyplot as plt\n",
        "plt.figure(figsize=(12, 8))\n",
        "\n",
        "plt.subplot(2, 2, 1)\n",
        "df['Clicks'].hist(bins=50, label='Clicks', alpha=0.6)\n",
        "plt.axvline(np.mean(df['Clicks']), ls='--', c='r', label=\"Mean\")\n",
        "plt.axvline(np.median(df['Clicks']), ls=':', c='g', label=\"Median\")\n",
        "plt.ylabel(\"Counts\")\n",
        "plt.title(\"Clicks Distribution\")\n",
        "plt.legend()\n",
        "\n",
        "plt.subplot(2, 2, 2)\n",
        "plt.scatter(df['Clicks'], np.random.normal(7, 0.2, size=df.shape[0]), alpha=0.5)\n",
        "plt.title(\"Clicks Distribution\")\n",
        "\n",
        "plt.subplot(2, 2, 3)\n",
        "sns.boxplot(y=\"Clicks\", data=df)\n",
        "\n",
        "plt.subplot(2, 2, 4)\n",
        "sns.violinplot(y=\"Clicks\", data=df, inner=\"quartile\", bw=0.2)"
      ],
      "metadata": {
        "colab": {
          "base_uri": "https://localhost:8080/",
          "height": 499
        },
        "id": "pZtVOXQv7PAa",
        "outputId": "0222ab53-5e87-436f-c54d-1116a16fcff8"
      },
      "execution_count": null,
      "outputs": [
        {
          "output_type": "execute_result",
          "data": {
            "text/plain": [
              "<matplotlib.axes._subplots.AxesSubplot at 0x7f381e1b6160>"
            ]
          },
          "metadata": {},
          "execution_count": 66
        },
        {
          "output_type": "display_data",
          "data": {
            "text/plain": [
              "<Figure size 864x576 with 4 Axes>"
            ],
            "image/png": "[encoded data removed]"
          },
          "metadata": {}
        }
      ]
    },
    {
      "cell_type": "code",
      "source": [
        "def z_score(df, threshold=1):\n",
        "    mean, std = np.mean(df), np.std(df)\n",
        "    z_score = np.abs((df - mean) / std)\n",
        "    good = z_score < threshold\n",
        "    print(f\"Z-показатель для {threshold} отклонений соответствует {100 * 2 * norm.sf(3):0.2f}%\")\n",
        "    print(f\"Отклонения в {(~good).sum()} случаев\")\n",
        "    return good"
      ],
      "metadata": {
        "id": "bZYiSIZi8tDp"
      },
      "execution_count": null,
      "outputs": []
    },
    {
      "cell_type": "markdown",
      "source": [
        "**Используем Z-оценку**"
      ],
      "metadata": {
        "id": "MUnWlE_8Aj6Y"
      }
    },
    {
      "cell_type": "code",
      "source": [
        "df['Clicks'].plot(figsize=(10,5))"
      ],
      "metadata": {
        "colab": {
          "base_uri": "https://localhost:8080/",
          "height": 339
        },
        "id": "2OXxsm0cEfNO",
        "outputId": "46043355-61cb-477c-f0b4-a14a75d4d5b3"
      },
      "execution_count": null,
      "outputs": [
        {
          "output_type": "execute_result",
          "data": {
            "text/plain": [
              "<matplotlib.axes._subplots.AxesSubplot at 0x7f381dfa5850>"
            ]
          },
          "metadata": {},
          "execution_count": 102
        },
        {
          "output_type": "display_data",
          "data": {
            "text/plain": [
              "<Figure size 720x360 with 1 Axes>"
            ],
            "image/png": "[encoded data removed]"
          },
          "metadata": {}
        }
      ]
    },
    {
      "cell_type": "code",
      "source": [
        "print(\"Среднее значение по кликам: \", df[\"Clicks\"].mean())\n",
        "print(\"Стандартное отклонение по кликам: \", df[\"Clicks\"].std())"
      ],
      "metadata": {
        "colab": {
          "base_uri": "https://localhost:8080/"
        },
        "id": "IN5CNCvhAjHv",
        "outputId": "f6c43394-e208-4713-b544-b50db7e94ed7"
      },
      "execution_count": null,
      "outputs": [
        {
          "output_type": "stream",
          "name": "stdout",
          "text": [
            "Среднее значение по кликам:  33.39020122484689\n",
            "Стандартное отклонение по кликам:  56.8924383035575\n"
          ]
        }
      ]
    },
    {
      "cell_type": "code",
      "source": [
        "z_score(df['Clicks'], threshold=2).sum()"
      ],
      "metadata": {
        "colab": {
          "base_uri": "https://localhost:8080/"
        },
        "id": "gsEM3HUsA6WW",
        "outputId": "196c6a2d-da98-4345-a818-dab9502538fe"
      },
      "execution_count": null,
      "outputs": [
        {
          "output_type": "stream",
          "name": "stdout",
          "text": [
            "Z-показатель для 2 отклонений соответствует 0.27%\n",
            "Отклонения в 66 случаев\n"
          ]
        },
        {
          "output_type": "execute_result",
          "data": {
            "text/plain": [
              "1077"
            ]
          },
          "metadata": {},
          "execution_count": 119
        }
      ]
    },
    {
      "cell_type": "code",
      "source": [
        "plt.figure(figsize=(12, 8))\n",
        "\n",
        "for i, threshold in zip(range(1, 5), range(2, 6)):\n",
        "    plt.subplot(2, 2, i)\n",
        "    visual_scatter = np.random.normal(size=df.shape[0])\n",
        "    good = z_score(df['Clicks'], threshold=threshold)\n",
        "    plt.scatter(df['Clicks'][good], visual_scatter[good], s=10, label=\"Хорошо\", color=\"#4CAF50\")\n",
        "    plt.scatter(df['Clicks'][~good], visual_scatter[~good], s=10, label=\"плохо\", color=\"#F44336\")\n",
        "    plt.legend()\n",
        "    plt.title(f\"Отклонения столбца Clicks (threshold={threshold})\")\n",
        "\n",
        "plt.tight_layout()"
      ],
      "metadata": {
        "colab": {
          "base_uri": "https://localhost:8080/",
          "height": 720
        },
        "id": "Bkx50i1-KFd_",
        "outputId": "6877f460-7ebf-4062-b22b-890391e88e15"
      },
      "execution_count": null,
      "outputs": [
        {
          "output_type": "stream",
          "name": "stdout",
          "text": [
            "Z-показатель для 2 отклонений соответствует 0.27%\n",
            "Отклонения в 66 случаев\n",
            "Z-показатель для 3 отклонений соответствует 0.27%\n",
            "Отклонения в 33 случаев\n",
            "Z-показатель для 4 отклонений соответствует 0.27%\n",
            "Отклонения в 12 случаев\n",
            "Z-показатель для 5 отклонений соответствует 0.27%\n",
            "Отклонения в 5 случаев\n"
          ]
        },
        {
          "output_type": "display_data",
          "data": {
            "text/plain": [
              "<Figure size 864x576 with 4 Axes>"
            ],
            "image/png": "[encoded data removed]"
          },
          "metadata": {}
        }
      ]
    },
    {
      "cell_type": "markdown",
      "source": [
        "**Корреляция**"
      ],
      "metadata": {
        "id": "QYL3vjoHLViP"
      }
    },
    {
      "cell_type": "markdown",
      "source": [
        "Построим таблицу и матрицу корреляции между числовыми признаками"
      ],
      "metadata": {
        "id": "4-5c1WsWLYNj"
      }
    },
    {
      "cell_type": "code",
      "source": [
        "df_corr = df.drop(['ad_id', 'fb_campaign_id', ], axis=1)\n",
        "df_corr.corr()"
      ],
      "metadata": {
        "colab": {
          "base_uri": "https://localhost:8080/",
          "height": 238
        },
        "id": "3kHss8N3LW3r",
        "outputId": "7d9793fa-19c2-4f33-afaa-18f40040af74"
      },
      "execution_count": null,
      "outputs": [
        {
          "output_type": "execute_result",
          "data": {
            "text/plain": [
              "                     interest  Impressions    Clicks     Spent  \\\n",
              "interest             1.000000     0.101973  0.088706  0.070226   \n",
              "Impressions          0.101973     1.000000  0.948514  0.970386   \n",
              "Clicks               0.088706     0.948514  1.000000  0.992906   \n",
              "Spent                0.070226     0.970386  0.992906  1.000000   \n",
              "Total_Conversion     0.120270     0.812838  0.694632  0.725379   \n",
              "Approved_Conversion  0.058353     0.684249  0.559526  0.593178   \n",
              "\n",
              "                     Total_Conversion  Approved_Conversion  \n",
              "interest                     0.120270             0.058353  \n",
              "Impressions                  0.812838             0.684249  \n",
              "Clicks                       0.694632             0.559526  \n",
              "Spent                        0.725379             0.593178  \n",
              "Total_Conversion             1.000000             0.864034  \n",
              "Approved_Conversion          0.864034             1.000000  "
            ],
            "text/html": [
              "\n",
              "  <div id=\"df-bf207e86-933d-474c-8438-f91bdc4fc944\">\n",
              "    <div class=\"colab-df-container\">\n",
              "      <div>\n",
              "<style scoped>\n",
              "    .dataframe tbody tr th:only-of-type {\n",
              "        vertical-align: middle;\n",
              "    }\n",
              "\n",
              "    .dataframe tbody tr th {\n",
              "        vertical-align: top;\n",
              "    }\n",
              "\n",
              "    .dataframe thead th {\n",
              "        text-align: right;\n",
              "    }\n",
              "</style>\n",
              "<table border=\"1\" class=\"dataframe\">\n",
              "  <thead>\n",
              "    <tr style=\"text-align: right;\">\n",
              "      <th></th>\n",
              "      <th>interest</th>\n",
              "      <th>Impressions</th>\n",
              "      <th>Clicks</th>\n",
              "      <th>Spent</th>\n",
              "      <th>Total_Conversion</th>\n",
              "      <th>Approved_Conversion</th>\n",
              "    </tr>\n",
              "  </thead>\n",
              "  <tbody>\n",
              "    <tr>\n",
              "      <th>interest</th>\n",
              "      <td>1.000000</td>\n",
              "      <td>0.101973</td>\n",
              "      <td>0.088706</td>\n",
              "      <td>0.070226</td>\n",
              "      <td>0.120270</td>\n",
              "      <td>0.058353</td>\n",
              "    </tr>\n",
              "    <tr>\n",
              "      <th>Impressions</th>\n",
              "      <td>0.101973</td>\n",
              "      <td>1.000000</td>\n",
              "      <td>0.948514</td>\n",
              "      <td>0.970386</td>\n",
              "      <td>0.812838</td>\n",
              "      <td>0.684249</td>\n",
              "    </tr>\n",
              "    <tr>\n",
              "      <th>Clicks</th>\n",
              "      <td>0.088706</td>\n",
              "      <td>0.948514</td>\n",
              "      <td>1.000000</td>\n",
              "      <td>0.992906</td>\n",
              "      <td>0.694632</td>\n",
              "      <td>0.559526</td>\n",
              "    </tr>\n",
              "    <tr>\n",
              "      <th>Spent</th>\n",
              "      <td>0.070226</td>\n",
              "      <td>0.970386</td>\n",
              "      <td>0.992906</td>\n",
              "      <td>1.000000</td>\n",
              "      <td>0.725379</td>\n",
              "      <td>0.593178</td>\n",
              "    </tr>\n",
              "    <tr>\n",
              "      <th>Total_Conversion</th>\n",
              "      <td>0.120270</td>\n",
              "      <td>0.812838</td>\n",
              "      <td>0.694632</td>\n",
              "      <td>0.725379</td>\n",
              "      <td>1.000000</td>\n",
              "      <td>0.864034</td>\n",
              "    </tr>\n",
              "    <tr>\n",
              "      <th>Approved_Conversion</th>\n",
              "      <td>0.058353</td>\n",
              "      <td>0.684249</td>\n",
              "      <td>0.559526</td>\n",
              "      <td>0.593178</td>\n",
              "      <td>0.864034</td>\n",
              "      <td>1.000000</td>\n",
              "    </tr>\n",
              "  </tbody>\n",
              "</table>\n",
              "</div>\n",
              "      <button class=\"colab-df-convert\" onclick=\"convertToInteractive('df-bf207e86-933d-474c-8438-f91bdc4fc944')\"\n",
              "              title=\"Convert this dataframe to an interactive table.\"\n",
              "              style=\"display:none;\">\n",
              "        \n",
              "  <svg xmlns=\"http://www.w3.org/2000/svg\" height=\"24px\"viewBox=\"0 0 24 24\"\n",
              "       width=\"24px\">\n",
              "    <path d=\"M0 0h24v24H0V0z\" fill=\"none\"/>\n",
              "    <path d=\"M18.56 5.44l.94 2.06.94-2.06 2.06-.94-2.06-.94-.94-2.06-.94 2.06-2.06.94zm-11 1L8.5 8.5l.94-2.06 2.06-.94-2.06-.94L8.5 2.5l-.94 2.06-2.06.94zm10 10l.94 2.06.94-2.06 2.06-.94-2.06-.94-.94-2.06-.94 2.06-2.06.94z\"/><path d=\"M17.41 7.96l-1.37-1.37c-.4-.4-.92-.59-1.43-.59-.52 0-1.04.2-1.43.59L10.3 9.45l-7.72 7.72c-.78.78-.78 2.05 0 2.83L4 21.41c.39.39.9.59 1.41.59.51 0 1.02-.2 1.41-.59l7.78-7.78 2.81-2.81c.8-.78.8-2.07 0-2.86zM5.41 20L4 18.59l7.72-7.72 1.47 1.35L5.41 20z\"/>\n",
              "  </svg>\n",
              "      </button>\n",
              "      \n",
              "  <style>\n",
              "    .colab-df-container {\n",
              "      display:flex;\n",
              "      flex-wrap:wrap;\n",
              "      gap: 12px;\n",
              "    }\n",
              "\n",
              "    .colab-df-convert {\n",
              "      background-color: #E8F0FE;\n",
              "      border: none;\n",
              "      border-radius: 50%;\n",
              "      cursor: pointer;\n",
              "      display: none;\n",
              "      fill: #1967D2;\n",
              "      height: 32px;\n",
              "      padding: 0 0 0 0;\n",
              "      width: 32px;\n",
              "    }\n",
              "\n",
              "    .colab-df-convert:hover {\n",
              "      background-color: #E2EBFA;\n",
              "      box-shadow: 0px 1px 2px rgba(60, 64, 67, 0.3), 0px 1px 3px 1px rgba(60, 64, 67, 0.15);\n",
              "      fill: #174EA6;\n",
              "    }\n",
              "\n",
              "    [theme=dark] .colab-df-convert {\n",
              "      background-color: #3B4455;\n",
              "      fill: #D2E3FC;\n",
              "    }\n",
              "\n",
              "    [theme=dark] .colab-df-convert:hover {\n",
              "      background-color: #434B5C;\n",
              "      box-shadow: 0px 1px 3px 1px rgba(0, 0, 0, 0.15);\n",
              "      filter: drop-shadow(0px 1px 2px rgba(0, 0, 0, 0.3));\n",
              "      fill: #FFFFFF;\n",
              "    }\n",
              "  </style>\n",
              "\n",
              "      <script>\n",
              "        const buttonEl =\n",
              "          document.querySelector('#df-bf207e86-933d-474c-8438-f91bdc4fc944 button.colab-df-convert');\n",
              "        buttonEl.style.display =\n",
              "          google.colab.kernel.accessAllowed ? 'block' : 'none';\n",
              "\n",
              "        async function convertToInteractive(key) {\n",
              "          const element = document.querySelector('#df-bf207e86-933d-474c-8438-f91bdc4fc944');\n",
              "          const dataTable =\n",
              "            await google.colab.kernel.invokeFunction('convertToInteractive',\n",
              "                                                     [key], {});\n",
              "          if (!dataTable) return;\n",
              "\n",
              "          const docLinkHtml = 'Like what you see? Visit the ' +\n",
              "            '<a target=\"_blank\" href=https://colab.research.google.com/notebooks/data_table.ipynb>data table notebook</a>'\n",
              "            + ' to learn more about interactive tables.';\n",
              "          element.innerHTML = '';\n",
              "          dataTable['output_type'] = 'display_data';\n",
              "          await google.colab.output.renderOutput(dataTable, element);\n",
              "          const docLink = document.createElement('div');\n",
              "          docLink.innerHTML = docLinkHtml;\n",
              "          element.appendChild(docLink);\n",
              "        }\n",
              "      </script>\n",
              "    </div>\n",
              "  </div>\n",
              "  "
            ]
          },
          "metadata": {},
          "execution_count": 125
        }
      ]
    },
    {
      "cell_type": "code",
      "source": [
        "sns.heatmap(df_corr.corr(), cmap=\"Blues\", annot=True)\n",
        "plt.show()"
      ],
      "metadata": {
        "colab": {
          "base_uri": "https://localhost:8080/",
          "height": 382
        },
        "id": "6wTzALokMLca",
        "outputId": "15e61513-cc0e-4a9b-eefc-38b80704fae9"
      },
      "execution_count": null,
      "outputs": [
        {
          "output_type": "display_data",
          "data": {
            "text/plain": [
              "<Figure size 432x288 with 2 Axes>"
            ],
            "image/png": "[encoded data removed]"
          },
          "metadata": {}
        }
      ]
    },
    {
      "cell_type": "markdown",
      "source": [
        "1. Признаки, сильно коррелирующие между собой:\n",
        "  * impressions - Clicks - означает, что чем больше кликов от пользователей, тем больше показывается реклама;\n",
        "  * Spent - Clicks, Spent - Impressions - чем больше компания XYZ заплатила Facebook денежных средств, тем больше произошло кликов и больше показов соответственно;\n",
        "  * Total_Conversion - Approved_Conversion - те пользователи, кто интересовался рекламированным продуктом, впоследствии приобрели этот продукт в большинстве случаев.\n",
        "2. Низкий уровень корреляции:\n",
        "  * interest - *все переменные - например, при увеличении затрат по рекламе не обязателен рост интереса к рекламируемому продукту и не велика вероятность, соответственно, того, что продукт будет приобретен;"
      ],
      "metadata": {
        "id": "4D4XgIdBM5GV"
      }
    },
    {
      "cell_type": "markdown",
      "source": [
        "**Линейная регрессия**"
      ],
      "metadata": {
        "id": "-qSfpRtnPVXg"
      }
    },
    {
      "cell_type": "markdown",
      "source": [
        "**Прогнозируемая переменная**: общее количество людей, которые приобретут данный продукт (Approved_Conversion)"
      ],
      "metadata": {
        "id": "_F7mhK_rPX4S"
      }
    },
    {
      "cell_type": "markdown",
      "source": [
        "Используем библиотеку sklearn для алгоритма линейной регрессии\n",
        "\n",
        "Но перед этим необходимо подготовить данные, нормализовать их"
      ],
      "metadata": {
        "id": "QKN3_vhVPu1B"
      }
    },
    {
      "cell_type": "code",
      "source": [
        "scaler = MinMaxScaler()\n",
        "df_regression = df.drop(['ad_id', 'fb_campaign_id', ], axis=1)\n",
        "\n",
        "df_regression_x = scaler.fit_transform(df_regression.drop(['Approved_Conversion', 'age', 'gender', 'xyz_campaign_id'], axis=1))\t\n",
        "\n",
        "x = df_regression_x\n",
        "y = df_regression['Approved_Conversion'].values.reshape(-1,1)\n",
        "\n",
        "reg = LinearRegression().fit(x, y)\n",
        "print(f\"Свободный коэффициент (b0) лин регрессии равен: {reg.intercept_[0]}\\nКоэффициенты: {reg.coef_[0]}\")\n",
        "\n",
        "predictions = reg.predict(x)\n",
        "print(f\"Среднеквадратичная ошибка: {mean_squared_error(y, predictions)}\")"
      ],
      "metadata": {
        "colab": {
          "base_uri": "https://localhost:8080/"
        },
        "id": "_HQyFNrkPQeH",
        "outputId": "486cd908-e730-4b80-f297-766780d448d3"
      },
      "execution_count": null,
      "outputs": [
        {
          "output_type": "stream",
          "name": "stdout",
          "text": [
            "Свободный коэффициент (b0) лин регрессии равен: 0.10442623891779823\n",
            "Коэффициенты: [-0.33615916  3.92808827 -2.8647134  -0.36801612 19.92761357]\n",
            "Среднеквадратичная ошибка: 0.7406303264167121\n"
          ]
        }
      ]
    },
    {
      "cell_type": "code",
      "source": [
        "predictions = reg.predict(x)\n",
        "plt.figure(figsize=(16, 8))\n",
        "\n",
        "plt.plot(\n",
        "    list(range(0, 10)),\n",
        "    df_regression[['Approved_Conversion']].head(10),\n",
        "    c='blue',\n",
        "    linewidth=2,\n",
        "    label='Реальные значения'\n",
        ")\n",
        "plt.plot(\n",
        "    list(range(0, 10)),\n",
        "    predictions[0:10],\n",
        "    c='green',\n",
        "    linewidth=2,\n",
        "    label='Предсказанные значения'\n",
        ")\n",
        "plt.xlabel(\"Approved_Conversion\")\n",
        "plt.ylabel(\"Each product\")\n",
        "plt.legend()\n",
        "plt.show()"
      ],
      "metadata": {
        "colab": {
          "base_uri": "https://localhost:8080/",
          "height": 502
        },
        "id": "cBuYi2QVSZJ4",
        "outputId": "3fe943e9-11fa-4f82-9209-2226acebdabc"
      },
      "execution_count": null,
      "outputs": [
        {
          "output_type": "display_data",
          "data": {
            "text/plain": [
              "<Figure size 1152x576 with 1 Axes>"
            ],
            "image/png": "[encoded data removed]"
          },
          "metadata": {}
        }
      ]
    },
    {
      "cell_type": "markdown",
      "source": [
        "**Выводы**:\n",
        "Найдены коэффициенты и свободный член линейной регрессии по 5 переменным. Вычислена среднеквадратическая ошибка регрессии."
      ],
      "metadata": {
        "id": "8S0j41Ru95-x"
      }
    },
    {
      "cell_type": "markdown",
      "source": [
        "**Выводы по работе**:\n",
        "\n",
        "* выполнен первичный разведывательный анализ данных (EDA), сформулированы нулевые гипотезы, проведены параметрические и непараметрические тесты;\n",
        "\n",
        "* визуализированы основные показатели по датасету;\n",
        "\n",
        "* построена матрица корреляции, сделаны основные заключения по коррелирующим признакам;\n",
        "\n",
        "* осуществлен прогноз переменной количества людей, которые приобретут рекламируемый продукт с помощью алгоритма линейной регрессии."
      ],
      "metadata": {
        "id": "sIqJ0NT6Ap9p"
      }
    }
  ]
}